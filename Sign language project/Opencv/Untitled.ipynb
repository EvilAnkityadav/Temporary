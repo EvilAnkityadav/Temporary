{
 "cells": [
  {
   "cell_type": "code",
   "execution_count": 1,
   "id": "1a2883af",
   "metadata": {},
   "outputs": [],
   "source": [
    "import cv2\n",
    "from matplotlib import pyplot as plt\n",
    "import os"
   ]
  },
  {
   "cell_type": "code",
   "execution_count": 2,
   "id": "94f7b649",
   "metadata": {},
   "outputs": [],
   "source": [
    "cap=cv2.VideoCapture(0)\n",
    "\n",
    "# width=int(cap.get(cv2.CAP_PROP_FRAME_WIDTH))\n",
    "# height=int(cap.get(cv2.CAP_PROP_FRAME_HEIGHT))\n",
    "# fps=int(cap.get(cv2.CAP_PROP_FPS))\n",
    "\n",
    "# video_Writer= cv2.VideoWriter(os.path.join('data','output_videos','Video_recording.avi'),\n",
    "#                               cv2.VideoWriter_fourcc('m', 'p', '4', 'v'),fps,(width,height),isColor=False)\n",
    "\n",
    "while cap.isOpened():\n",
    "    _,frame=cap.read()\n",
    "    flip=cv2.flip(frame,1)\n",
    "    cv2.imshow('VP',flip)\n",
    "    gray=cv2.cvtColor(flip,cv2.COLOR_BGR2GRAY)\n",
    "    cv2.imshow('VP',gray)\n",
    "#     video_Writer.write(gray)\n",
    "    if cv2.waitKey(10) & 0xFF==ord('q'):\n",
    "        break\n",
    "cap.release()\n",
    "cv2.destroyAllWindows()\n",
    "# video_Writer.release()"
   ]
  },
  {
   "cell_type": "code",
   "execution_count": null,
   "id": "fdc62ff2",
   "metadata": {},
   "outputs": [],
   "source": []
  }
 ],
 "metadata": {
  "kernelspec": {
   "display_name": "Python 3",
   "language": "python",
   "name": "python3"
  },
  "language_info": {
   "codemirror_mode": {
    "name": "ipython",
    "version": 3
   },
   "file_extension": ".py",
   "mimetype": "text/x-python",
   "name": "python",
   "nbconvert_exporter": "python",
   "pygments_lexer": "ipython3",
   "version": "3.8.8"
  }
 },
 "nbformat": 4,
 "nbformat_minor": 5
}
